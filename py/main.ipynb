{
 "cells": [
  {
   "cell_type": "code",
   "execution_count": 5,
   "id": "2f3b7968-0e34-41e8-9a02-053eba09caaa",
   "metadata": {},
   "outputs": [],
   "source": [
    "# packages import\n",
    "from numpy import *\n",
    "from pylab import *"
   ]
  },
  {
   "cell_type": "code",
   "execution_count": 17,
   "id": "0f041aae-1325-479a-95d8-63027c69e098",
   "metadata": {},
   "outputs": [],
   "source": [
    "# parameters/input path define\n",
    "para_path = \"\"\n",
    "# output path define\n",
    "output_path = \"\""
   ]
  },
  {
   "cell_type": "code",
   "execution_count": null,
   "id": "fd5c1ef8-cac1-4194-8443-c63c6c87c836",
   "metadata": {},
   "outputs": [],
   "source": []
  },
  {
   "cell_type": "code",
   "execution_count": null,
   "id": "a05faedf-1db1-4d06-94ee-96ed050f33d7",
   "metadata": {},
   "outputs": [],
   "source": []
  }
 ],
 "metadata": {
  "kernelspec": {
   "display_name": "Python 3 (ipykernel)",
   "language": "python",
   "name": "python3"
  },
  "language_info": {
   "codemirror_mode": {
    "name": "ipython",
    "version": 3
   },
   "file_extension": ".py",
   "mimetype": "text/x-python",
   "name": "python",
   "nbconvert_exporter": "python",
   "pygments_lexer": "ipython3",
   "version": "3.12.8"
  }
 },
 "nbformat": 4,
 "nbformat_minor": 5
}
